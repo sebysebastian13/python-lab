{
  "nbformat": 4,
  "nbformat_minor": 0,
  "metadata": {
    "colab": {
      "name": "python cycle2.ipynb",
      "provenance": [],
      "collapsed_sections": [],
      "toc_visible": true,
      "authorship_tag": "ABX9TyP483WHa0DYdSgOLJFWANIG",
      "include_colab_link": true
    },
    "kernelspec": {
      "name": "python3",
      "display_name": "Python 3"
    }
  },
  "cells": [
    {
      "cell_type": "markdown",
      "metadata": {
        "id": "view-in-github",
        "colab_type": "text"
      },
      "source": [
        "<a href=\"https://colab.research.google.com/github/sebysebastian13/python-lab/blob/main/python_cycle2.ipynb\" target=\"_parent\"><img src=\"https://colab.research.google.com/assets/colab-badge.svg\" alt=\"Open In Colab\"/></a>"
      ]
    },
    {
      "cell_type": "code",
      "metadata": {
        "colab": {
          "base_uri": "https://localhost:8080/"
        },
        "id": "eiwiQm6txOSU",
        "outputId": "06ca71d3-f0c3-4678-da30-b1bfbf755324"
      },
      "source": [
        "#1.Display future leap years from current year to a final year entered by user.\r\n",
        "s=int(input(\"enter starting year: \"))\r\n",
        "e=int(input(\"enter ending year: \"))\r\n",
        "print(\"leap years between\",s,\"and\",e)\r\n",
        "while (s<=e):\r\n",
        "    if ((s%400==0) or ((s%4==0) and (s%100!=0))):\r\n",
        "      print(s)\r\n",
        "    s=s+1\r\n"
      ],
      "execution_count": null,
      "outputs": [
        {
          "output_type": "stream",
          "text": [
            "enter starting year: 2000\n",
            "enter ending year: 2020\n",
            "leap years between 2000 and 2020\n",
            "2000\n",
            "2004\n",
            "2008\n",
            "2012\n",
            "2016\n",
            "2020\n"
          ],
          "name": "stdout"
        }
      ]
    },
    {
      "cell_type": "code",
      "metadata": {
        "colab": {
          "base_uri": "https://localhost:8080/"
        },
        "id": "B36RrBrV0XQN",
        "outputId": "99f3bb33-4b39-4cb7-873d-0f9fba96054d"
      },
      "source": [
        "#Generate positive list of numbers from a given list of integers\r\n",
        "x=[]\r\n",
        "n=int(input(\"enter list items : \"))\r\n",
        "for i in range(1,n+1):\r\n",
        "    a=int(input(\"enter the value of %d item : \"%i))\r\n",
        "    x.append(a)\r\n",
        "y=[num for num in x if num >= 0]\r\n",
        "print(\"initial list of integers is :\",x) \r\n",
        "print(\"modified list of positive numbers is :\",y)\r\n"
      ],
      "execution_count": null,
      "outputs": [
        {
          "output_type": "stream",
          "text": [
            "enter list items : 3\n",
            "enter the value of 1 item : -3\n",
            "enter the value of 2 item : -2\n",
            "enter the value of 3 item : 1\n",
            "initial list of integers is : [-3, -2, 1]\n",
            "modified list of positive numbers is : [1]\n"
          ],
          "name": "stdout"
        }
      ]
    },
    {
      "cell_type": "code",
      "metadata": {
        "colab": {
          "base_uri": "https://localhost:8080/"
        },
        "id": "XgA39tnb1gfu",
        "outputId": "d353a90f-187f-4522-ae6d-a54df6f44fae"
      },
      "source": [
        "#Square of N numbers\r\n",
        "x=[]\r\n",
        "n=int(input(\"enter list items : \"))\r\n",
        "for i in range(1,n+1):\r\n",
        "    a=int(input(\"enter the value of %d item : \"%i))\r\n",
        "    x.append(a)\r\n",
        "b=(num**2 for num in x)\r\n",
        "print(\"initial list of N numbers :\",x)\r\n",
        "y=list(b)\r\n",
        "print(\"square list of N numbers :\",y)\r\n"
      ],
      "execution_count": null,
      "outputs": [
        {
          "output_type": "stream",
          "text": [
            "enter list items : 3\n",
            "enter the value of 1 item : 1\n",
            "enter the value of 2 item : 4\n",
            "enter the value of 3 item : 7\n",
            "initial list of N numbers : [1, 4, 7]\n",
            "square list of N numbers : [1, 16, 49]\n"
          ],
          "name": "stdout"
        }
      ]
    },
    {
      "cell_type": "code",
      "metadata": {
        "colab": {
          "base_uri": "https://localhost:8080/"
        },
        "id": "06YCjhPl3NjJ",
        "outputId": "79492411-24ae-4e06-faa5-5eabda96347f"
      },
      "source": [
        "#Form a list of vowels selected from a given word\r\n",
        "w=input(\"enter any word : \")\r\n",
        "v=[l for l in w if l in 'aeiou' ]\r\n",
        "print(\"list of vowels in\",w,\" :\",v)\r\n"
      ],
      "execution_count": null,
      "outputs": [
        {
          "output_type": "stream",
          "text": [
            "enter any word : helloo\n",
            "list of vowels in helloo  : ['e', 'o', 'o']\n"
          ],
          "name": "stdout"
        }
      ]
    },
    {
      "cell_type": "code",
      "metadata": {
        "id": "hmvvGRK00LJJ",
        "colab": {
          "base_uri": "https://localhost:8080/"
        },
        "outputId": "21875b33-d7ed-4727-853d-841ba94a16d1"
      },
      "source": [
        "#List ordinal value of each element of a word (Hint: use ord() to get ordinal values)\r\n",
        "w=input(\"enter any word : \")\r\n",
        "for l in range(len(w)) :\r\n",
        "  print(\"ASCII value is\",w[l],\"is\",ord(w[l]))\r\n"
      ],
      "execution_count": null,
      "outputs": [
        {
          "output_type": "stream",
          "text": [
            "enter any word : qwerty\n",
            "ASCII value is q is 113\n",
            "ASCII value is w is 119\n",
            "ASCII value is e is 101\n",
            "ASCII value is r is 114\n",
            "ASCII value is t is 116\n",
            "ASCII value is y is 121\n"
          ],
          "name": "stdout"
        }
      ]
    },
    {
      "cell_type": "code",
      "metadata": {
        "colab": {
          "base_uri": "https://localhost:8080/"
        },
        "id": "lr7xkymZ6edJ",
        "outputId": "3a0dff95-a482-4def-f674-47b06f32ec38"
      },
      "source": [
        "#Count the occurrences of each word in a line of text.\r\n",
        "def word_count(str):\r\n",
        "    counts = dict()\r\n",
        "    words = str.split()\r\n",
        "    for word in words:\r\n",
        "        if word in counts:\r\n",
        "            counts[word] += 1\r\n",
        "        else:\r\n",
        "            counts[word] = 1\r\n",
        "    return counts\r\n",
        "str=input(\"enter any text :\")\r\n",
        "print(word_count(str))\r\n"
      ],
      "execution_count": null,
      "outputs": [
        {
          "output_type": "stream",
          "text": [
            "enter any text :hello good morning\n",
            "{'hello': 1, 'good': 1, 'morning': 1}\n"
          ],
          "name": "stdout"
        }
      ]
    },
    {
      "cell_type": "code",
      "metadata": {
        "colab": {
          "base_uri": "https://localhost:8080/"
        },
        "id": "Mbdnmsy-62qs",
        "outputId": "7652bc4d-2b5d-4673-98d1-7d2b67f5449f"
      },
      "source": [
        "#Prompt the user for a list of integers. For all values greater than 100, store ‘over’ instead.\r\n",
        "x=[]\r\n",
        "n=int(input(\"enter any integers :\"))\r\n",
        "for i in range(1,n+1):\r\n",
        "  a=int(input())\r\n",
        "  if (a>100):\r\n",
        "    x.append('over')\r\n",
        "  else:\r\n",
        "    x.append(a)\r\n",
        "print(\"modified list :\" ,x)\r\n",
        "6"
      ],
      "execution_count": null,
      "outputs": [
        {
          "output_type": "stream",
          "text": [
            "enter any integers :3\n",
            "100\n",
            "101\n",
            "4\n",
            "modified list : [100, 'over', 4]\n"
          ],
          "name": "stdout"
        }
      ]
    },
    {
      "cell_type": "code",
      "metadata": {
        "colab": {
          "base_uri": "https://localhost:8080/"
        },
        "id": "9AVoGp--G298",
        "outputId": "1b40d349-72ce-4ed2-bf4a-eedc513dc508"
      },
      "source": [
        "#Accept the radius from user and find area of circle.\r\n",
        "r=int(input(\"enter the radius of the circle :\"))\r\n",
        "print(\"area of the circle is :\",3.14*r*r)\r\n"
      ],
      "execution_count": null,
      "outputs": [
        {
          "output_type": "stream",
          "text": [
            "enter the radius of the circle :5\n",
            "area of the circle is : 78.5\n"
          ],
          "name": "stdout"
        }
      ]
    },
    {
      "cell_type": "code",
      "metadata": {
        "colab": {
          "base_uri": "https://localhost:8080/"
        },
        "id": "3jQ4rbytS4bW",
        "outputId": "7a33fca3-3dcc-4668-eb04-66ebe3b2a782"
      },
      "source": [
        "#Find biggest of 3 numbers entered.\r\n",
        "a = float(input(\"enter the first value : \"))\r\n",
        "b = float(input(\"enter the second value : \"))\r\n",
        "c = float(input(\"enter the third value : \"))\r\n",
        "if (a > b and a > c):\r\n",
        "  print(a,\"is bigger than both\",b,\"and\",c)\r\n",
        "elif (b > a and b > c):\r\n",
        "  print(b,\"is bigger than both\",a,\"and\",c)\r\n",
        "elif (c > a and c > b):\r\n",
        "  print(c,\"is bigger than both\",a,\"and\",b)\r\n",
        "else:\r\n",
        "  print(\"either any two values or all the three values are equal\")\r\n"
      ],
      "execution_count": null,
      "outputs": [
        {
          "output_type": "stream",
          "text": [
            "enter the first value : 12\n",
            "enter the second value : 5\n",
            "enter the third value : 10\n",
            "12.0 is bigger than both 5.0 and 10.0\n"
          ],
          "name": "stdout"
        }
      ]
    },
    {
      "cell_type": "code",
      "metadata": {
        "colab": {
          "base_uri": "https://localhost:8080/"
        },
        "id": "lf7PCCYDTc2A",
        "outputId": "664d0b6b-fe88-4c18-9d52-e556d99f253c"
      },
      "source": [
        "#Accept a file name from user and print extension of that.\r\n",
        "f=input(\"enter any filename : \")\r\n",
        "x=f.split(\".\")\r\n",
        "print(\"extension of file is\",x[-1])\r\n"
      ],
      "execution_count": null,
      "outputs": [
        {
          "output_type": "stream",
          "text": [
            "enter any filename : qwert.avi\n",
            "extension of file is avi\n"
          ],
          "name": "stdout"
        }
      ]
    },
    {
      "cell_type": "code",
      "metadata": {
        "colab": {
          "base_uri": "https://localhost:8080/"
        },
        "id": "9PPNF3DmybD7",
        "outputId": "f3b5cbca-a251-4e62-ddc4-aea6af33001f"
      },
      "source": [
        "#Create a string from given string where first and last characters exchanged. [eg: python -\r\n",
        "#> nythop]\r\n",
        "def change(str):\r\n",
        "      return str[-1:] + str[1:-1] + str[:1]\r\n",
        "str=input(\"enter any string : \")\r\n",
        "print(\"modified string : \",change(str))\r\n",
        "\r\n",
        "\r\n"
      ],
      "execution_count": null,
      "outputs": [
        {
          "output_type": "stream",
          "text": [
            "enter any string : python\n",
            "modified string :  nythop\n"
          ],
          "name": "stdout"
        }
      ]
    },
    {
      "cell_type": "code",
      "metadata": {
        "colab": {
          "base_uri": "https://localhost:8080/"
        },
        "id": "NXN2EZmWz8Tk",
        "outputId": "e06c5910-bf5d-422c-8546-9a38c91c730c"
      },
      "source": [
        "#Merge two dictionaries.\r\n",
        "k1=input(\"enter first key : \")\r\n",
        "k2=input(\"enter second key : \")\r\n",
        "v1=input(\"enter first value : \")\r\n",
        "v2=input(\"enter second value : \")\r\n",
        "dict1={}\r\n",
        "dict2={}\r\n",
        "dict1[k1]=v1\r\n",
        "dict2[k2]=v2\r\n",
        "def merge_dictionaries(x,y):\r\n",
        "  z = {**x,**y}\r\n",
        "  print(\"merged dictionary is : \")\r\n",
        "  return z\r\n",
        "print(merge_dictionaries(dict1,dict2))\r\n"
      ],
      "execution_count": null,
      "outputs": [
        {
          "output_type": "stream",
          "text": [
            "enter first key : hai\n",
            "enter second key : hello\n",
            "enter first value : super\n",
            "enter second value : nice\n",
            "merged dictionary is : \n",
            "{'hai': 'super', 'hello': 'nice'}\n"
          ],
          "name": "stdout"
        }
      ]
    },
    {
      "cell_type": "code",
      "metadata": {
        "colab": {
          "base_uri": "https://localhost:8080/"
        },
        "id": "onKigyMm186f",
        "outputId": "83ff12a9-da7f-4d85-9479-5b47c0d4f9cc"
      },
      "source": [
        "#Find gcd of 2 numbers.\r\n",
        "n1=float(input(\"enter the first value : \"))\r\n",
        "n2=float(input(\"enter the second value : \"))\r\n",
        "x=n1\r\n",
        "y=n2\r\n",
        "while (n2 != 0):\r\n",
        "  temp=n2\r\n",
        "  n2=n1%n2\r\n",
        "  n1=temp\r\n",
        "gcd=n1   \r\n",
        "print(\"GCD of\",x,\"and\",y,\"is\",gcd)\r\n"
      ],
      "execution_count": null,
      "outputs": [
        {
          "output_type": "stream",
          "text": [
            "enter the first value : 10\n",
            "enter the second value : 20\n",
            "GCD of 10.0 and 20.0 is 10.0\n"
          ],
          "name": "stdout"
        }
      ]
    },
    {
      "cell_type": "code",
      "metadata": {
        "colab": {
          "base_uri": "https://localhost:8080/"
        },
        "id": "kKbTolGb2XDZ",
        "outputId": "afe9fed8-3726-46ca-da48-8224953111f3"
      },
      "source": [
        "#From a list of integers, create a list removing even numbers\r\n",
        "x=[]\r\n",
        "n=int(input(\"enter list items : \"))\r\n",
        "for i in range(1,n+1):\r\n",
        "    a=int(input(\"enter the value of %d item : \"%i))\r\n",
        "    x.append(a)\r\n",
        "for i  in x:\r\n",
        "  if (i%2 == 0):\r\n",
        "    x.remove(i)\r\n",
        "print(\"modified list after removing even numbers :\")\r\n",
        "print(x)\r\n"
      ],
      "execution_count": null,
      "outputs": [
        {
          "output_type": "stream",
          "text": [
            "enter list items : 3\n",
            "enter the value of 1 item : 2\n",
            "enter the value of 2 item : 5\n",
            "enter the value of 3 item : 7\n",
            "modified list after removing even numbers :\n",
            "[5, 7]\n"
          ],
          "name": "stdout"
        }
      ]
    },
    {
      "cell_type": "code",
      "metadata": {
        "id": "DSRoYsIk_TvK",
        "colab": {
          "base_uri": "https://localhost:8080/"
        },
        "outputId": "30938c2f-8276-49a2-e2e8-3087b50d01ec"
      },
      "source": [
        "#store a list of first names.count the occurences of \"a\" within the list\r\n",
        "name = input(\"enter the names\")\r\n",
        "list = []\r\n",
        "count = 0\r\n",
        "for x in name:\r\n",
        "   list.append(x)\r\n",
        "   if (x in name and x == 'a'):\r\n",
        "      count = count + 1\r\n",
        "print(count)"
      ],
      "execution_count": null,
      "outputs": [
        {
          "output_type": "stream",
          "text": [
            "enter the namesabcda\n",
            "2\n"
          ],
          "name": "stdout"
        }
      ]
    },
    {
      "cell_type": "code",
      "metadata": {
        "id": "w9sNzp-p__6_",
        "colab": {
          "base_uri": "https://localhost:8080/"
        },
        "outputId": "0f64dc4d-84ee-406f-c5f2-3c9ed9bb89ab"
      },
      "source": [
        "#enter two list of integers\r\n",
        "#a)check whether list are of same length\r\n",
        "#b)whether lists sums to the same value\r\n",
        "#c)whether any value occure in both\r\n",
        "\r\n",
        "x=[]\r\n",
        "a=int(input(\"enter limit for list1 : \"))\r\n",
        "for i in range(1,a+1):\r\n",
        "  a=int(input())\r\n",
        "  x.append(a)\r\n",
        "print(x)\r\n",
        "y=[]\r\n",
        "b=int(input(\"enter limit for list2 : \"))\r\n",
        "for i in range(1,b+1):\r\n",
        "  b=int(input())\r\n",
        "  y.append(b)\r\n",
        "print(y)\r\n",
        "if (len(x)==len(y)):\r\n",
        "  print(\"list1 and list2 are of same length i.e.\",len(x))\r\n",
        "else:\r\n",
        "  print(\"list1 and list2 are of different length.\")\r\n",
        "if (sum(x)==sum(y)):\r\n",
        "  print(\"list1 and list2 sums to the same value i.e.\",sum(x))\r\n",
        "else:\r\n",
        "  print(\"list1 and list2 sums up to different values.\")\r\n",
        "def common(x, y): \r\n",
        "    p=set(x) \r\n",
        "    q=set(y) \r\n",
        "    if len(p.intersection(q)) > 0: \r\n",
        "        return(p.intersection(q))   \r\n",
        "    else: \r\n",
        "        return(\"no common elements\")  \r\n",
        "print(\"value that occur in both lists is/are :\",common(x,y))"
      ],
      "execution_count": 3,
      "outputs": [
        {
          "output_type": "stream",
          "text": [
            "enter limit for list1 : 4\n",
            "1\n",
            "6\n",
            "7\n",
            "3\n",
            "[1, 6, 7, 3]\n",
            "enter limit for list2 : 4\n",
            "8\n",
            "3\n",
            "5\n",
            "1\n",
            "[8, 3, 5, 1]\n",
            "list1 and list2 are of same length i.e. 4\n",
            "list1 and list2 sums to the same value i.e. 17\n",
            "value that occur in both lists is/are : {1, 3}\n"
          ],
          "name": "stdout"
        }
      ]
    },
    {
      "cell_type": "code",
      "metadata": {
        "colab": {
          "base_uri": "https://localhost:8080/"
        },
        "id": "xEqT0d45IfTQ",
        "outputId": "2eb4af9d-715b-45c0-a404-774bc733a1f6"
      },
      "source": [
        "# Get a string from an input string where all occurrences of first character replaced with\r\n",
        "#‘$’, except first character.\r\n",
        "#[eg: onion -> oni$n]\r\n",
        "\r\n",
        "str=input(\"enter any string : \")\r\n",
        "def rep_ch(str1):\r\n",
        "  char=str1[0]\r\n",
        "  str1=str1.replace(char, '$')\r\n",
        "  str1=char+str1[1:]\r\n",
        "  return str1\r\n",
        "print(rep_ch(str))\r\n"
      ],
      "execution_count": 5,
      "outputs": [
        {
          "output_type": "stream",
          "text": [
            "enter any string : onion\n",
            "oni$n\n"
          ],
          "name": "stdout"
        }
      ]
    },
    {
      "cell_type": "code",
      "metadata": {
        "colab": {
          "base_uri": "https://localhost:8080/"
        },
        "id": "RVT4I1-0JM-X",
        "outputId": "d8d1d377-ece7-4cba-afd5-c7561bd13017"
      },
      "source": [
        "#Create a list of colors from comma-separated color names entered by user.Display\r\n",
        " #first and last colors.\r\n",
        "c=[]\r\n",
        "x=int(input(\"enter limit for list : \"))\r\n",
        "for i in range(1,x+1):\r\n",
        "  a=input()\r\n",
        "  c.append(a)\r\n",
        "print(c)\r\n",
        "print(c[0],c[-1])\r\n",
        "\r\n"
      ],
      "execution_count": 7,
      "outputs": [
        {
          "output_type": "stream",
          "text": [
            "enter limit for list : 4\n",
            "black\n",
            "blue\n",
            "green\n",
            "yellow\n",
            "['black', 'blue', 'green', 'yellow']\n",
            "black yellow\n"
          ],
          "name": "stdout"
        }
      ]
    },
    {
      "cell_type": "code",
      "metadata": {
        "colab": {
          "base_uri": "https://localhost:8080/"
        },
        "id": "XL4ABGyoKPVf",
        "outputId": "f4c619ec-2714-4266-954a-3d9f12390a47"
      },
      "source": [
        "#Print out all colors from color-list1 not contained in color-list2.\r\n",
        "c1=[]\r\n",
        "x=int(input(\"enter limit for list1 :\"))\r\n",
        "for i in range(1,x+1):\r\n",
        "  a=input()\r\n",
        "  c1.append(a)\r\n",
        "  p=set(c1)\r\n",
        "print(p)\r\n",
        "c2=[]\r\n",
        "y=int(input(\"enter limit for list2 : \"))\r\n",
        "for i in range(1,y+1):\r\n",
        "  b=input()\r\n",
        "  c2.append(b)\r\n",
        "  q=set(c2)\r\n",
        "print(q)\r\n",
        "print(p.difference(q))"
      ],
      "execution_count": 8,
      "outputs": [
        {
          "output_type": "stream",
          "text": [
            "enter limit for list1 :3\n",
            "green\n",
            "white\n",
            "orange\n",
            "{'orange', 'white', 'green'}\n",
            "enter limit for list2 : 4\n",
            "white\n",
            "blue\n",
            "orange\n",
            "yellow\n",
            "{'orange', 'blue', 'yellow', 'white'}\n",
            "{'green'}\n"
          ],
          "name": "stdout"
        }
      ]
    },
    {
      "cell_type": "code",
      "metadata": {
        "colab": {
          "base_uri": "https://localhost:8080/"
        },
        "id": "ATYB2jznLagG",
        "outputId": "4cfc4dac-0ccb-47d8-dc9a-c29f7a578420"
      },
      "source": [
        "#Accept an integer n and compute n+nn+nnn.\r\n",
        "\r\n",
        "a=int(input(\"enter any integer : \"))\r\n",
        "n1=int(\"%s\" %a)\r\n",
        "n2=int(\"%s%s\" %(a,a))\r\n",
        "n3=int(\"%s%s%s\" %(a,a,a))\r\n",
        "print(\"value of n+nn+nnn is : \",n1+n2+n3)"
      ],
      "execution_count": 10,
      "outputs": [
        {
          "output_type": "stream",
          "text": [
            "enter any integer : 1\n",
            "value of n+nn+nnn is :  123\n"
          ],
          "name": "stdout"
        }
      ]
    },
    {
      "cell_type": "code",
      "metadata": {
        "colab": {
          "base_uri": "https://localhost:8080/"
        },
        "id": "QxxZbcx6L0fh",
        "outputId": "19e39ea0-b503-455d-dec0-c482a7f0c5f9"
      },
      "source": [
        "# Create a single string separated with space from two strings by swapping the\r\n",
        "# character at position 1.\r\n",
        "def chars_mix_up(a, b):\r\n",
        "  new_a = b[:2] + a[2:]\r\n",
        "  new_b = a[:2] + b[2:]\r\n",
        "\r\n",
        "  return new_a + ' ' + new_b\r\n",
        "print(chars_mix_up('hello', 'welcome'))"
      ],
      "execution_count": 12,
      "outputs": [
        {
          "output_type": "stream",
          "text": [
            "wello helcome\n"
          ],
          "name": "stdout"
        }
      ]
    },
    {
      "cell_type": "code",
      "metadata": {
        "colab": {
          "base_uri": "https://localhost:8080/"
        },
        "id": "jiK_jfUeM0r3",
        "outputId": "c7d56f13-9d13-404f-b606-daae6c7eabae"
      },
      "source": [
        "#Sort dictionary in ascending and descending order. \r\n",
        "\r\n",
        "k1=input(\"enter first key : \")\r\n",
        "k2=input(\"enter second key : \")\r\n",
        "k3=input(\"enter third key : \")\r\n",
        "k4=input(\"enter fourth key : \")\r\n",
        "k5=input(\"enter fifth key : \")\r\n",
        "v1=input(\"enter first value : \")\r\n",
        "v2=input(\"enter second value : \")\r\n",
        "v3=input(\"enter third value : \")\r\n",
        "v4=input(\"enter fourth value : \")\r\n",
        "v5=input(\"enter fifth value : \")\r\n",
        "d={}\r\n",
        "d[k1]=v1\r\n",
        "d[k2]=v2\r\n",
        "d[k3]=v3\r\n",
        "d[k4]=v4\r\n",
        "d[k5]=v5\r\n",
        "l=list(d.items())   \r\n",
        "l.sort() \r\n",
        "print(\"ascending order is : \",l)\r\n",
        "l=list(d.items())\r\n",
        "l.sort(reverse = True)\r\n",
        "print(\"descending order is : \",l)"
      ],
      "execution_count": 14,
      "outputs": [
        {
          "output_type": "stream",
          "text": [
            "enter first key : 1\n",
            "enter second key : 2\n",
            "enter third key : 3\n",
            "enter fourth key : 4\n",
            "enter fifth key : 5\n",
            "enter first value : qwe\n",
            "enter second value : zxc\n",
            "enter third value : jhg\n",
            "enter fourth value : ytr\n",
            "enter fifth value : mnb\n",
            "ascending order is :  [('1', 'qwe'), ('2', 'zxc'), ('3', 'jhg'), ('4', 'ytr'), ('5', 'mnb')]\n",
            "descending order is :  [('5', 'mnb'), ('4', 'ytr'), ('3', 'jhg'), ('2', 'zxc'), ('1', 'qwe')]\n"
          ],
          "name": "stdout"
        }
      ]
    }
  ]
}