{
  "nbformat": 4,
  "nbformat_minor": 0,
  "metadata": {
    "colab": {
      "name": "python cycle2.ipynb",
      "provenance": [],
      "collapsed_sections": [],
      "toc_visible": true,
      "authorship_tag": "ABX9TyONtHNq+0PzdcDbLZX5Jl1J",
      "include_colab_link": true
    },
    "kernelspec": {
      "name": "python3",
      "display_name": "Python 3"
    }
  },
  "cells": [
    {
      "cell_type": "markdown",
      "metadata": {
        "id": "view-in-github",
        "colab_type": "text"
      },
      "source": [
        "<a href=\"https://colab.research.google.com/github/sebysebastian13/python-lab/blob/main/python_cycle2.ipynb\" target=\"_parent\"><img src=\"https://colab.research.google.com/assets/colab-badge.svg\" alt=\"Open In Colab\"/></a>"
      ]
    },
    {
      "cell_type": "code",
      "metadata": {
        "colab": {
          "base_uri": "https://localhost:8080/"
        },
        "id": "eiwiQm6txOSU",
        "outputId": "06ca71d3-f0c3-4678-da30-b1bfbf755324"
      },
      "source": [
        "#1.Display future leap years from current year to a final year entered by user.\r\n",
        "s=int(input(\"enter starting year: \"))\r\n",
        "e=int(input(\"enter ending year: \"))\r\n",
        "print(\"leap years between\",s,\"and\",e)\r\n",
        "while (s<=e):\r\n",
        "    if ((s%400==0) or ((s%4==0) and (s%100!=0))):\r\n",
        "      print(s)\r\n",
        "    s=s+1\r\n"
      ],
      "execution_count": null,
      "outputs": [
        {
          "output_type": "stream",
          "text": [
            "enter starting year: 2000\n",
            "enter ending year: 2020\n",
            "leap years between 2000 and 2020\n",
            "2000\n",
            "2004\n",
            "2008\n",
            "2012\n",
            "2016\n",
            "2020\n"
          ],
          "name": "stdout"
        }
      ]
    },
    {
      "cell_type": "code",
      "metadata": {
        "colab": {
          "base_uri": "https://localhost:8080/"
        },
        "id": "B36RrBrV0XQN",
        "outputId": "99f3bb33-4b39-4cb7-873d-0f9fba96054d"
      },
      "source": [
        "#Generate positive list of numbers from a given list of integers\r\n",
        "x=[]\r\n",
        "n=int(input(\"enter list items : \"))\r\n",
        "for i in range(1,n+1):\r\n",
        "    a=int(input(\"enter the value of %d item : \"%i))\r\n",
        "    x.append(a)\r\n",
        "y=[num for num in x if num >= 0]\r\n",
        "print(\"initial list of integers is :\",x) \r\n",
        "print(\"modified list of positive numbers is :\",y)\r\n"
      ],
      "execution_count": null,
      "outputs": [
        {
          "output_type": "stream",
          "text": [
            "enter list items : 3\n",
            "enter the value of 1 item : -3\n",
            "enter the value of 2 item : -2\n",
            "enter the value of 3 item : 1\n",
            "initial list of integers is : [-3, -2, 1]\n",
            "modified list of positive numbers is : [1]\n"
          ],
          "name": "stdout"
        }
      ]
    },
    {
      "cell_type": "code",
      "metadata": {
        "colab": {
          "base_uri": "https://localhost:8080/"
        },
        "id": "XgA39tnb1gfu",
        "outputId": "d353a90f-187f-4522-ae6d-a54df6f44fae"
      },
      "source": [
        "#Square of N numbers\r\n",
        "x=[]\r\n",
        "n=int(input(\"enter list items : \"))\r\n",
        "for i in range(1,n+1):\r\n",
        "    a=int(input(\"enter the value of %d item : \"%i))\r\n",
        "    x.append(a)\r\n",
        "b=(num**2 for num in x)\r\n",
        "print(\"initial list of N numbers :\",x)\r\n",
        "y=list(b)\r\n",
        "print(\"square list of N numbers :\",y)\r\n"
      ],
      "execution_count": null,
      "outputs": [
        {
          "output_type": "stream",
          "text": [
            "enter list items : 3\n",
            "enter the value of 1 item : 1\n",
            "enter the value of 2 item : 4\n",
            "enter the value of 3 item : 7\n",
            "initial list of N numbers : [1, 4, 7]\n",
            "square list of N numbers : [1, 16, 49]\n"
          ],
          "name": "stdout"
        }
      ]
    },
    {
      "cell_type": "code",
      "metadata": {
        "colab": {
          "base_uri": "https://localhost:8080/"
        },
        "id": "06YCjhPl3NjJ",
        "outputId": "79492411-24ae-4e06-faa5-5eabda96347f"
      },
      "source": [
        "#Form a list of vowels selected from a given word\r\n",
        "w=input(\"enter any word : \")\r\n",
        "v=[l for l in w if l in 'aeiou' ]\r\n",
        "print(\"list of vowels in\",w,\" :\",v)\r\n"
      ],
      "execution_count": null,
      "outputs": [
        {
          "output_type": "stream",
          "text": [
            "enter any word : helloo\n",
            "list of vowels in helloo  : ['e', 'o', 'o']\n"
          ],
          "name": "stdout"
        }
      ]
    },
    {
      "cell_type": "code",
      "metadata": {
        "id": "hmvvGRK00LJJ",
        "colab": {
          "base_uri": "https://localhost:8080/"
        },
        "outputId": "21875b33-d7ed-4727-853d-841ba94a16d1"
      },
      "source": [
        "#List ordinal value of each element of a word (Hint: use ord() to get ordinal values)\r\n",
        "w=input(\"enter any word : \")\r\n",
        "for l in range(len(w)) :\r\n",
        "  print(\"ASCII value is\",w[l],\"is\",ord(w[l]))\r\n"
      ],
      "execution_count": 13,
      "outputs": [
        {
          "output_type": "stream",
          "text": [
            "enter any word : qwerty\n",
            "ASCII value is q is 113\n",
            "ASCII value is w is 119\n",
            "ASCII value is e is 101\n",
            "ASCII value is r is 114\n",
            "ASCII value is t is 116\n",
            "ASCII value is y is 121\n"
          ],
          "name": "stdout"
        }
      ]
    },
    {
      "cell_type": "code",
      "metadata": {
        "colab": {
          "base_uri": "https://localhost:8080/"
        },
        "id": "lr7xkymZ6edJ",
        "outputId": "3a0dff95-a482-4def-f674-47b06f32ec38"
      },
      "source": [
        "#Count the occurrences of each word in a line of text.\r\n",
        "def word_count(str):\r\n",
        "    counts = dict()\r\n",
        "    words = str.split()\r\n",
        "    for word in words:\r\n",
        "        if word in counts:\r\n",
        "            counts[word] += 1\r\n",
        "        else:\r\n",
        "            counts[word] = 1\r\n",
        "    return counts\r\n",
        "str=input(\"enter any text :\")\r\n",
        "print(word_count(str))\r\n"
      ],
      "execution_count": 14,
      "outputs": [
        {
          "output_type": "stream",
          "text": [
            "enter any text :hello good morning\n",
            "{'hello': 1, 'good': 1, 'morning': 1}\n"
          ],
          "name": "stdout"
        }
      ]
    },
    {
      "cell_type": "code",
      "metadata": {
        "colab": {
          "base_uri": "https://localhost:8080/"
        },
        "id": "Mbdnmsy-62qs",
        "outputId": "7652bc4d-2b5d-4673-98d1-7d2b67f5449f"
      },
      "source": [
        "#Prompt the user for a list of integers. For all values greater than 100, store ‘over’ instead.\r\n",
        "x=[]\r\n",
        "n=int(input(\"enter any integers :\"))\r\n",
        "for i in range(1,n+1):\r\n",
        "  a=int(input())\r\n",
        "  if (a>100):\r\n",
        "    x.append('over')\r\n",
        "  else:\r\n",
        "    x.append(a)\r\n",
        "print(\"modified list :\" ,x)\r\n",
        "6"
      ],
      "execution_count": 16,
      "outputs": [
        {
          "output_type": "stream",
          "text": [
            "enter any integers :3\n",
            "100\n",
            "101\n",
            "4\n",
            "modified list : [100, 'over', 4]\n"
          ],
          "name": "stdout"
        }
      ]
    }
  ]
}