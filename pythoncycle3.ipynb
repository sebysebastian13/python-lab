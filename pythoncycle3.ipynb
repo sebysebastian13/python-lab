{
  "nbformat": 4,
  "nbformat_minor": 0,
  "metadata": {
    "colab": {
      "name": "pythoncycle3.ipynb",
      "provenance": [],
      "collapsed_sections": [],
      "authorship_tag": "ABX9TyMHVgqIz+gh0/W+8fe/B5+M",
      "include_colab_link": true
    },
    "kernelspec": {
      "name": "python3",
      "display_name": "Python 3"
    }
  },
  "cells": [
    {
      "cell_type": "markdown",
      "metadata": {
        "id": "view-in-github",
        "colab_type": "text"
      },
      "source": [
        "<a href=\"https://colab.research.google.com/github/sebysebastian13/python-lab/blob/main/pythoncycle3.ipynb\" target=\"_parent\"><img src=\"https://colab.research.google.com/assets/colab-badge.svg\" alt=\"Open In Colab\"/></a>"
      ]
    },
    {
      "cell_type": "code",
      "metadata": {
        "colab": {
          "base_uri": "https://localhost:8080/"
        },
        "id": "CUCqzht6vnOp",
        "outputId": "d5d74b43-2805-47a5-d308-b0dd51d15784"
      },
      "source": [
        "#1. Program to find the factorial of a number \r\n",
        "num=int(input(\"enter the number\"))\r\n",
        "factorial = 1\r\n",
        "if num < 0:\r\n",
        "   print(\"factorial does not exist for negative numbers\")\r\n",
        "elif num == 0:\r\n",
        "   print(\"The factorial of 0 is 1\")\r\n",
        "else:\r\n",
        "   for i in range(1,num + 1):\r\n",
        "       factorial = factorial*i\r\n",
        "   print(\"The factorial of\",num,\"is\",factorial)\r\n"
      ],
      "execution_count": 3,
      "outputs": [
        {
          "output_type": "stream",
          "text": [
            "enter the number4\n",
            "The factorial of 4 is 24\n"
          ],
          "name": "stdout"
        }
      ]
    },
    {
      "cell_type": "code",
      "metadata": {
        "colab": {
          "base_uri": "https://localhost:8080/"
        },
        "id": "ui5Fp2gpxJ1j",
        "outputId": "602129a5-834a-487b-8403-ef75792018f9"
      },
      "source": [
        "#2.Generate Fibonacci series of N terms \r\n",
        "nterms = int(input(\"enter the number \"))\r\n",
        "n1, n2 = 0, 1\r\n",
        "count = 0\r\n",
        "if nterms <= 0:\r\n",
        "   print(\"Please enter a positive integer\")\r\n",
        "elif nterms == 1:\r\n",
        "   print(\"Fibonacci sequence upto\",nterms,\":\")\r\n",
        "   print(n1)\r\n",
        "else:\r\n",
        "   print(\"Fibonacci sequence:\")\r\n",
        "   while count < nterms:\r\n",
        "       print(n1)\r\n",
        "       nth = n1 + n2\r\n",
        "       n1 = n2\r\n",
        "       n2 = nth\r\n",
        "       count += 1\r\n"
      ],
      "execution_count": 7,
      "outputs": [
        {
          "output_type": "stream",
          "text": [
            "enter the number 3\n",
            "Fibonacci sequence:\n",
            "0\n",
            "1\n",
            "1\n"
          ],
          "name": "stdout"
        }
      ]
    },
    {
      "cell_type": "code",
      "metadata": {
        "colab": {
          "base_uri": "https://localhost:8080/"
        },
        "id": "64Pk98XryXwl",
        "outputId": "46220f60-5339-4e6b-a45b-3409084f2599"
      },
      "source": [
        "#3. Find the sum of all items in a list \r\n",
        "total = 0\r\n",
        "list1 = [8, 10, 9, 16, 3] \r\n",
        "for ele in range(0, len(list1)):\r\n",
        "    total = total + list1[ele]\r\n",
        "print(\"Sum of all elements in given list: \", total)\r\n"
      ],
      "execution_count": 9,
      "outputs": [
        {
          "output_type": "stream",
          "text": [
            "Sum of all elements in given list:  46\n"
          ],
          "name": "stdout"
        }
      ]
    },
    {
      "cell_type": "code",
      "metadata": {
        "colab": {
          "base_uri": "https://localhost:8080/"
        },
        "id": "v2RylfAoyzXf",
        "outputId": "4c0993f6-60c6-44f9-beb7-f1fc5dc8c805"
      },
      "source": [
        "#4. Generate a list of four digit numbers in a given range with all their digits even and the number is a perfect square.\r\n",
        "for i in range(1000, 10000, 1):\r\n",
        "   for j in range(32, 100, 1):\r\n",
        "      if i == j*j:\r\n",
        "         string = str(i)\r\n",
        "         if int(string[0])%2 == 0 and int(string[1])%2 == 0 and int(string[2])%2 == 0 and int(string[3])%2 == 0:\r\n",
        "           print(i)"
      ],
      "execution_count": 10,
      "outputs": [
        {
          "output_type": "stream",
          "text": [
            "4624\n",
            "6084\n",
            "6400\n",
            "8464\n"
          ],
          "name": "stdout"
        }
      ]
    },
    {
      "cell_type": "code",
      "metadata": {
        "colab": {
          "base_uri": "https://localhost:8080/"
        },
        "id": "UWzc_shPz3Sq",
        "outputId": "0e1fb772-e4b6-45bd-a8a0-f7f4b4ba70e6"
      },
      "source": [
        "# 5. Display the given pyramid with step number accepted from user. \r\n",
        "row = int(input('Enter how many lines? '))\r\n",
        "for i in range(1,row+1):\r\n",
        "    for j in range(1, row+1-i):\r\n",
        "        print(' ', end='')\r\n",
        "    for j in range(1,i+1):\r\n",
        "        print(j, end='') \r\n",
        "    for j in range(i-1,0,-1):\r\n",
        "        print(j, end='')\r\n",
        "    print()"
      ],
      "execution_count": 11,
      "outputs": [
        {
          "output_type": "stream",
          "text": [
            "Enter how many lines? 4\n",
            "   1\n",
            "  121\n",
            " 12321\n",
            "1234321\n"
          ],
          "name": "stdout"
        }
      ]
    },
    {
      "cell_type": "code",
      "metadata": {
        "colab": {
          "base_uri": "https://localhost:8080/"
        },
        "id": "cjSzdFWz0ak9",
        "outputId": "6b8a3248-86d5-4dec-e926-33332ffd945c"
      },
      "source": [
        "#6. Count the number of characters (character frequency) in a string. \r\n",
        "def char_frequency(str1):\r\n",
        "    dict = {}\r\n",
        "    for n in str1:\r\n",
        "        keys = dict.keys()\r\n",
        "        if n in keys:\r\n",
        "            dict[n] += 1\r\n",
        "        else:\r\n",
        "            dict[n] = 1\r\n",
        "    return dict\r\n",
        "print(char_frequency('seby sebastian'))"
      ],
      "execution_count": 13,
      "outputs": [
        {
          "output_type": "stream",
          "text": [
            "{'s': 3, 'e': 2, 'b': 2, 'y': 1, ' ': 1, 'a': 2, 't': 1, 'i': 1, 'n': 1}\n"
          ],
          "name": "stdout"
        }
      ]
    },
    {
      "cell_type": "code",
      "metadata": {
        "id": "CWdJzhIm05ul"
      },
      "source": [
        ""
      ],
      "execution_count": null,
      "outputs": []
    }
  ]
}