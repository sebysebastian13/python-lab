{
  "nbformat": 4,
  "nbformat_minor": 0,
  "metadata": {
    "colab": {
      "name": "pythoncycle3.ipynb",
      "provenance": [],
      "collapsed_sections": [],
      "authorship_tag": "ABX9TyPHNtLGLAI3DcIN4WYdCjJv",
      "include_colab_link": true
    },
    "kernelspec": {
      "name": "python3",
      "display_name": "Python 3"
    }
  },
  "cells": [
    {
      "cell_type": "markdown",
      "metadata": {
        "id": "view-in-github",
        "colab_type": "text"
      },
      "source": [
        "<a href=\"https://colab.research.google.com/github/sebysebastian13/python-lab/blob/main/pythoncycle3.ipynb\" target=\"_parent\"><img src=\"https://colab.research.google.com/assets/colab-badge.svg\" alt=\"Open In Colab\"/></a>"
      ]
    },
    {
      "cell_type": "code",
      "metadata": {
        "colab": {
          "base_uri": "https://localhost:8080/"
        },
        "id": "CUCqzht6vnOp",
        "outputId": "d5d74b43-2805-47a5-d308-b0dd51d15784"
      },
      "source": [
        "#1. Program to find the factorial of a number \r\n",
        "num=int(input(\"enter the number\"))\r\n",
        "factorial = 1\r\n",
        "if num < 0:\r\n",
        "   print(\"factorial does not exist for negative numbers\")\r\n",
        "elif num == 0:\r\n",
        "   print(\"The factorial of 0 is 1\")\r\n",
        "else:\r\n",
        "   for i in range(1,num + 1):\r\n",
        "       factorial = factorial*i\r\n",
        "   print(\"The factorial of\",num,\"is\",factorial)\r\n"
      ],
      "execution_count": null,
      "outputs": [
        {
          "output_type": "stream",
          "text": [
            "enter the number4\n",
            "The factorial of 4 is 24\n"
          ],
          "name": "stdout"
        }
      ]
    },
    {
      "cell_type": "code",
      "metadata": {
        "colab": {
          "base_uri": "https://localhost:8080/"
        },
        "id": "ui5Fp2gpxJ1j",
        "outputId": "602129a5-834a-487b-8403-ef75792018f9"
      },
      "source": [
        "#2.Generate Fibonacci series of N terms \r\n",
        "nterms = int(input(\"enter the number \"))\r\n",
        "n1, n2 = 0, 1\r\n",
        "count = 0\r\n",
        "if nterms <= 0:\r\n",
        "   print(\"Please enter a positive integer\")\r\n",
        "elif nterms == 1:\r\n",
        "   print(\"Fibonacci sequence upto\",nterms,\":\")\r\n",
        "   print(n1)\r\n",
        "else:\r\n",
        "   print(\"Fibonacci sequence:\")\r\n",
        "   while count < nterms:\r\n",
        "       print(n1)\r\n",
        "       nth = n1 + n2\r\n",
        "       n1 = n2\r\n",
        "       n2 = nth\r\n",
        "       count += 1\r\n"
      ],
      "execution_count": null,
      "outputs": [
        {
          "output_type": "stream",
          "text": [
            "enter the number 3\n",
            "Fibonacci sequence:\n",
            "0\n",
            "1\n",
            "1\n"
          ],
          "name": "stdout"
        }
      ]
    },
    {
      "cell_type": "code",
      "metadata": {
        "colab": {
          "base_uri": "https://localhost:8080/"
        },
        "id": "64Pk98XryXwl",
        "outputId": "2c54c4f6-5460-42e1-e7b3-853154821741"
      },
      "source": [
        "#3. Find the sum of all items in a list \r\n",
        "n=[]\r\n",
        "x=int(input(\"enter the limit of list elements : \"))\r\n",
        "for i in range(1,x+1):\r\n",
        "    a=int(input())\r\n",
        "    n.append(a)\r\n",
        "t=sum(n)\r\n",
        "print(\"sum of all element in this list is :\",t)8\r\n"
      ],
      "execution_count": 1,
      "outputs": [
        {
          "output_type": "stream",
          "text": [
            "enter the limit of list elements : 4\n",
            "1\n",
            "2\n",
            "6\n",
            "8\n",
            "sum of all element in this list is : 17\n"
          ],
          "name": "stdout"
        }
      ]
    },
    {
      "cell_type": "code",
      "metadata": {
        "colab": {
          "base_uri": "https://localhost:8080/"
        },
        "id": "v2RylfAoyzXf",
        "outputId": "4c0993f6-60c6-44f9-beb7-f1fc5dc8c805"
      },
      "source": [
        "#4. Generate a list of four digit numbers in a given range with all their digits even and the number is a perfect square.\r\n",
        "for i in range(1000, 10000, 1):\r\n",
        "   for j in range(32, 100, 1):\r\n",
        "      if i == j*j:\r\n",
        "         string = str(i)\r\n",
        "         if int(string[0])%2 == 0 and int(string[1])%2 == 0 and int(string[2])%2 == 0 and int(string[3])%2 == 0:\r\n",
        "           print(i)"
      ],
      "execution_count": null,
      "outputs": [
        {
          "output_type": "stream",
          "text": [
            "4624\n",
            "6084\n",
            "6400\n",
            "8464\n"
          ],
          "name": "stdout"
        }
      ]
    },
    {
      "cell_type": "code",
      "metadata": {
        "colab": {
          "base_uri": "https://localhost:8080/"
        },
        "id": "UWzc_shPz3Sq",
        "outputId": "0e1fb772-e4b6-45bd-a8a0-f7f4b4ba70e6"
      },
      "source": [
        "# 5. Display the given pyramid with step number accepted from user. \r\n",
        "row = int(input('Enter how many lines? '))\r\n",
        "for i in range(1,row+1):\r\n",
        "    for j in range(1, row+1-i):\r\n",
        "        print(' ', end='')\r\n",
        "    for j in range(1,i+1):\r\n",
        "        print(j, end='') \r\n",
        "    for j in range(i-1,0,-1):\r\n",
        "        print(j, end='')\r\n",
        "    print()"
      ],
      "execution_count": null,
      "outputs": [
        {
          "output_type": "stream",
          "text": [
            "Enter how many lines? 4\n",
            "   1\n",
            "  121\n",
            " 12321\n",
            "1234321\n"
          ],
          "name": "stdout"
        }
      ]
    },
    {
      "cell_type": "code",
      "metadata": {
        "colab": {
          "base_uri": "https://localhost:8080/"
        },
        "id": "cjSzdFWz0ak9",
        "outputId": "6b8a3248-86d5-4dec-e926-33332ffd945c"
      },
      "source": [
        "#6. Count the number of characters (character frequency) in a string. \r\n",
        "def char_frequency(str1):\r\n",
        "    dict = {}\r\n",
        "    for n in str1:\r\n",
        "        keys = dict.keys()\r\n",
        "        if n in keys:\r\n",
        "            dict[n] += 1\r\n",
        "        else:\r\n",
        "            dict[n] = 1\r\n",
        "    return dict\r\n",
        "print(char_frequency('seby sebastian'))"
      ],
      "execution_count": null,
      "outputs": [
        {
          "output_type": "stream",
          "text": [
            "{'s': 3, 'e': 2, 'b': 2, 'y': 1, ' ': 1, 'a': 2, 't': 1, 'i': 1, 'n': 1}\n"
          ],
          "name": "stdout"
        }
      ]
    },
    {
      "cell_type": "code",
      "metadata": {
        "id": "CWdJzhIm05ul",
        "outputId": "0d35b45e-8d78-4b9d-ceec-f3d029b3b59e",
        "colab": {
          "base_uri": "https://localhost:8080/"
        }
      },
      "source": [
        "#7) Add ‘ing’ at the end of a given string. If it already ends with ‘ing’, then add ‘ly’.\r\n",
        "\r\n",
        "s=input(\"enter any string : \")\r\n",
        "if s.endswith(\"ing\") :\r\n",
        "  s+=\"ly\"\r\n",
        "else :\r\n",
        "  s+=\"ing\"\r\n",
        "print(\"modified string : \",s)"
      ],
      "execution_count": 2,
      "outputs": [
        {
          "output_type": "stream",
          "text": [
            "enter any string : asdfg\n",
            "modified string :  asdfging\n"
          ],
          "name": "stdout"
        }
      ]
    },
    {
      "cell_type": "code",
      "metadata": {
        "id": "pIPoEjPeUi5-",
        "outputId": "f76023f6-ca37-4d3e-edcc-bdb123f30e31",
        "colab": {
          "base_uri": "https://localhost:8080/"
        }
      },
      "source": [
        "#8) Accept a list of words and return length of longest word. \r\n",
        "\r\n",
        "l=[]\r\n",
        "n= int(input(\"enter the number of elements in list : \"))\r\n",
        "for i in range(1,n+1):\r\n",
        "    x=input()\r\n",
        "    l.append(x)\r\n",
        "max=len(l[0])\r\n",
        "temp=l[0]\r\n",
        "for j in l:\r\n",
        "    if(len(j)>max):\r\n",
        "       max=len(j)\r\n",
        "       temp=j\r\n",
        "print(\"the word with the longest length is :\",temp)"
      ],
      "execution_count": 3,
      "outputs": [
        {
          "output_type": "stream",
          "text": [
            "enter the number of elements in list : 3\n",
            "hai\n",
            "hello\n",
            "nice\n",
            "the word with the longest length is : hello\n"
          ],
          "name": "stdout"
        }
      ]
    },
    {
      "cell_type": "code",
      "metadata": {
        "id": "UB_byD56U0Tf",
        "outputId": "b1a3b443-9b68-4df0-8759-342815d5c80f",
        "colab": {
          "base_uri": "https://localhost:8080/"
        }
      },
      "source": [
        "#9) Construct following pattern using nested loop :\r\n",
        "\r\n",
        "#* \r\n",
        "#* * \r\n",
        "#* * * \r\n",
        "#* * * * \r\n",
        "#* * * * *\r\n",
        "#* * * *\r\n",
        "#* * * \r\n",
        "#* *\r\n",
        "#* \r\n",
        "\r\n",
        "for i in range(5):\r\n",
        "  for j in range(i+1):\r\n",
        "    print(\"* \",end=\"\")\r\n",
        "  print()\r\n",
        "for i in range(4):\r\n",
        "  for j in range(i, 4):\r\n",
        "    print(\"* \",end=\"\")\r\n",
        "  print()\r\n"
      ],
      "execution_count": 6,
      "outputs": [
        {
          "output_type": "stream",
          "text": [
            "* \n",
            "* * \n",
            "* * * \n",
            "* * * * \n",
            "* * * * * \n",
            "* * * * \n",
            "* * * \n",
            "* * \n",
            "* \n"
          ],
          "name": "stdout"
        }
      ]
    },
    {
      "cell_type": "code",
      "metadata": {
        "id": "SQplZOguVSG4",
        "outputId": "c4bfcddc-8b83-4115-8ee0-a4464f8654b3",
        "colab": {
          "base_uri": "https://localhost:8080/"
        }
      },
      "source": [
        "#10) Generate all factors of a number. \r\n",
        "\r\n",
        "n=int(input(\"enter any number : \"))\r\n",
        "i=1\r\n",
        "print(\"all factors of\",n,\"are :\")\r\n",
        "while i<=n:\r\n",
        "  if n%i==0:\r\n",
        "    print(i)\r\n",
        "  i=i+1"
      ],
      "execution_count": 7,
      "outputs": [
        {
          "output_type": "stream",
          "text": [
            "enter any number : 12\n",
            "all factors of 12 are :\n",
            "1\n",
            "2\n",
            "3\n",
            "4\n",
            "6\n",
            "12\n"
          ],
          "name": "stdout"
        }
      ]
    },
    {
      "cell_type": "code",
      "metadata": {
        "id": "ghZ3YQRrVlU9",
        "outputId": "e3aae952-86b9-45a4-e4ea-2707fb673161",
        "colab": {
          "base_uri": "https://localhost:8080/"
        }
      },
      "source": [
        "#11) Write lambda functions to find area of square, rectangle and triangle.\r\n",
        "\r\n",
        "a=int(input(\"enter the side of square : \"))\r\n",
        "sq_area=lambda a:a**2\r\n",
        "print(\"area of the square is : \",sq_area(a))\r\n",
        "l=int(input(\"enter length : \"))\r\n",
        "w=int(input(\"enter width : \"))\r\n",
        "rect_area=lambda l,w : l*w\r\n",
        "print(\"area of the rectangle is : \",rect_area(l,w))\r\n",
        "a=int(input(\"enter the value of first side : \"))\r\n",
        "b=int(input(\"enter the value of second side : \"))\r\n",
        "c=int(input(\"enter the value of third side : \"))\r\n",
        "s=(a+b+c)/2\r\n",
        "t_area=lambda s,a,b,c : (s*(s-a)*(s-b)*(s-c))**0.5\r\n",
        "print(\"area of triangle :\",t_area(s,a,b,c))"
      ],
      "execution_count": 8,
      "outputs": [
        {
          "output_type": "stream",
          "text": [
            "enter the side of square : 4\n",
            "area of the square is :  16\n",
            "enter length : 3\n",
            "enter width : 6\n",
            "area of the rectangle is :  18\n",
            "enter the value of first side : 5\n",
            "enter the value of second side : 3\n",
            "enter the value of third side : 4\n",
            "area of triangle : 6.0\n"
          ],
          "name": "stdout"
        }
      ]
    }
  ]
}